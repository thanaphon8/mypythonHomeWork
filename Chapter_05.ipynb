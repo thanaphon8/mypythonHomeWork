{
 "cells": [
  {
   "cell_type": "markdown",
   "metadata": {},
   "source": [
    "# แบบฝึกหัด บทที่ 5 ตัวแปรและประเภทข้อมูล"
   ]
  },
  {
   "cell_type": "code",
   "execution_count": null,
   "metadata": {},
   "outputs": [],
   "source": [
    "\"\"\"\n",
    "ชื่อ - สกุล - รหัส\n",
    "นายธนาพนธ์ แต้มมาก 6612732112\n",
    "\n",
    "\"\"\""
   ]
  },
  {
   "cell_type": "markdown",
   "metadata": {},
   "source": [
    "## 1.\tประเภทของตัวเลขที่ภาษาไพธอนให้การรองรับมีอะไรบ้าง"
   ]
  },
  {
   "cell_type": "code",
   "execution_count": 3,
   "metadata": {},
   "outputs": [
    {
     "data": {
      "text/plain": [
       "'\\nคำตอบ\\n1.จำนวนเต็ม (Integers)\\n2.จำนวนทศนิยม (Floating-Point Numbers)\\n3.จำนวนเชิงซ้อน (Complex Numbers)\\n4.จำนวนทศนิยมรูปแบบยิ่งใหญ่ (Decimal Numbers)\\n5.ข้อมูลสรุป (Booleans)\\n6.สตริง (Strings)\\n'"
      ]
     },
     "execution_count": 3,
     "metadata": {},
     "output_type": "execute_result"
    }
   ],
   "source": [
    "\"\"\"\n",
    "คำตอบ\n",
    "1.จำนวนเต็ม (Integers)\n",
    "2.จำนวนทศนิยม (Floating-Point Numbers)\n",
    "3.จำนวนเชิงซ้อน (Complex Numbers)\n",
    "4.จำนวนทศนิยมรูปแบบยิ่งใหญ่ (Decimal Numbers)\n",
    "5.ข้อมูลสรุป (Booleans)\n",
    "6.สตริง (Strings)\n",
    "\"\"\"\n",
    "\n"
   ]
  },
  {
   "cell_type": "markdown",
   "metadata": {},
   "source": [
    "## 2.จงแสดงชนิดข้อมูลของตัวแปร a และ b"
   ]
  },
  {
   "cell_type": "code",
   "execution_count": null,
   "metadata": {},
   "outputs": [],
   "source": [
    "\"\"\"\n",
    "a = 15.50\n",
    "b = ‘Python’ \n",
    "จงแสดงชนิดข้อมูลของตัวแปร a และ b\n",
    "\"\"\""
   ]
  },
  {
   "cell_type": "code",
   "execution_count": 25,
   "metadata": {},
   "outputs": [
    {
     "name": "stdout",
     "output_type": "stream",
     "text": [
      "<class 'float'>\n",
      "<class 'str'>\n"
     ]
    }
   ],
   "source": [
    "#คำตอบ\n",
    "a = 15.50\n",
    "b = 'Python'\n",
    "print(type(a))\n",
    "print(type(b))"
   ]
  },
  {
   "cell_type": "markdown",
   "metadata": {},
   "source": [
    "## 3.จงใช้คำสั่ง print() เพื่อแสดงสตริงต่อไปนี้\n",
    "\n",
    "- Jane's teacher says \"You have to study hard\" –"
   ]
  },
  {
   "cell_type": "code",
   "execution_count": 18,
   "metadata": {},
   "outputs": [
    {
     "name": "stdout",
     "output_type": "stream",
     "text": [
      "Jane's teacher says \"You have to study hard\" –\n"
     ]
    }
   ],
   "source": [
    "#คำตอบ\n",
    "print(\"Jane's teacher says \\\"You have to study hard\\\" –\")\n",
    "\n"
   ]
  },
  {
   "cell_type": "markdown",
   "metadata": {},
   "source": [
    "## 4.\tจงแสดงผลลัพธ์ของคำสั่งต่อไปนี้ "
   ]
  },
  {
   "cell_type": "code",
   "execution_count": 9,
   "metadata": {},
   "outputs": [
    {
     "data": {
      "text/plain": [
       "'\\nprint(\"{2} {0} {1}\".format(\"apple\", \\n         \"pineapple\", \\n         \"banana\"))\\n'"
      ]
     },
     "execution_count": 9,
     "metadata": {},
     "output_type": "execute_result"
    }
   ],
   "source": [
    "\"\"\"\n",
    "print(\"{2} {0} {1}\".format(\"apple\", \n",
    "         \"pineapple\", \n",
    "         \"banana\"))\n",
    "\"\"\""
   ]
  },
  {
   "cell_type": "code",
   "execution_count": 30,
   "metadata": {
    "tags": []
   },
   "outputs": [
    {
     "name": "stdout",
     "output_type": "stream",
     "text": [
      "banana apple pineapple\n"
     ]
    }
   ],
   "source": [
    "#คำตอบ\n",
    "print(\"{2} {0} {1}\".format(\"apple\", \n",
    "         \"pineapple\", \n",
    "         \"banana\"))"
   ]
  },
  {
   "cell_type": "markdown",
   "metadata": {},
   "source": [
    "## 5. กำหนดให้ตัวแปร "
   ]
  },
  {
   "cell_type": "code",
   "execution_count": null,
   "metadata": {},
   "outputs": [],
   "source": [
    "\"\"\"\n",
    "pi = 3.141592653589\n",
    "จงแสดงค่าของตัวแปร pi ออกทางหน้าจอให้มีทศนิยมเพียง 3 จุด\n",
    "\"\"\""
   ]
  },
  {
   "cell_type": "code",
   "execution_count": 26,
   "metadata": {},
   "outputs": [
    {
     "name": "stdout",
     "output_type": "stream",
     "text": [
      "3.142\n"
     ]
    }
   ],
   "source": [
    "#คำตอบ\n",
    "pi = 3.141592653589\n",
    "rounded_pi = round(pi, 3)\n",
    "print(rounded_pi)\n",
    "\n"
   ]
  },
  {
   "cell_type": "markdown",
   "metadata": {},
   "source": [
    "## 6.กำหนดให้ \n",
    "\n",
    "str = \"Python Programming\"\n",
    "\n",
    "จงหาผลลัพธ์ของ str[7:]\n"
   ]
  },
  {
   "cell_type": "code",
   "execution_count": 29,
   "metadata": {},
   "outputs": [
    {
     "name": "stdout",
     "output_type": "stream",
     "text": [
      "Programming\n"
     ]
    }
   ],
   "source": [
    "#คำตอบ\n",
    "str = \"Python Programming\"\n",
    "print(str[7:])\n",
    "\n"
   ]
  },
  {
   "cell_type": "markdown",
   "metadata": {},
   "source": [
    "## 7.จงอธิบายความแตกต่างระหว่างลิสต์และทัพเพิล"
   ]
  },
  {
   "cell_type": "code",
   "execution_count": null,
   "metadata": {},
   "outputs": [],
   "source": [
    "#คำตอบ\n",
    "1.การแก้ไข (Mutability)\n",
    "2.รูปแบบการสร้าง\n",
    "3.ประสิทธิภาพ\n",
    "4.การเข้าถึงข้อมูล"
   ]
  },
  {
   "cell_type": "code",
   "execution_count": null,
   "metadata": {},
   "outputs": [],
   "source": []
  },
  {
   "cell_type": "code",
   "execution_count": null,
   "metadata": {},
   "outputs": [],
   "source": []
  }
 ],
 "metadata": {
  "interpreter": {
   "hash": "40d3a090f54c6569ab1632332b64b2c03c39dcf918b08424e98f38b5ae0af88f"
  },
  "kernelspec": {
   "display_name": "Python 3 (ipykernel)",
   "language": "python",
   "name": "python3"
  },
  "language_info": {
   "codemirror_mode": {
    "name": "ipython",
    "version": 3
   },
   "file_extension": ".py",
   "mimetype": "text/x-python",
   "name": "python",
   "nbconvert_exporter": "python",
   "pygments_lexer": "ipython3",
   "version": "3.11.5"
  }
 },
 "nbformat": 4,
 "nbformat_minor": 4
}
