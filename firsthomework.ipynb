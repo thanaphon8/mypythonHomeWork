{
 "cells": [
  {
   "cell_type": "code",
   "execution_count": 1,
   "id": "f4dd9bb5-87f3-4515-88c0-8eea368caf88",
   "metadata": {
    "tags": []
   },
   "outputs": [
    {
     "name": "stdout",
     "output_type": "stream",
     "text": [
      "thanaphon tammak 6612732112\n"
     ]
    }
   ],
   "source": [
    "print(\"thanaphon tammak 6612732112\")"
   ]
  },
  {
   "cell_type": "code",
   "execution_count": null,
   "id": "69af79bb-efb1-4117-a71a-9adc78568723",
   "metadata": {},
   "outputs": [],
   "source": []
  }
 ],
 "metadata": {
  "kernelspec": {
   "display_name": "Python 3 (ipykernel)",
   "language": "python",
   "name": "python3"
  },
  "language_info": {
   "codemirror_mode": {
    "name": "ipython",
    "version": 3
   },
   "file_extension": ".py",
   "mimetype": "text/x-python",
   "name": "python",
   "nbconvert_exporter": "python",
   "pygments_lexer": "ipython3",
   "version": "3.11.5"
  }
 },
 "nbformat": 4,
 "nbformat_minor": 5
}
